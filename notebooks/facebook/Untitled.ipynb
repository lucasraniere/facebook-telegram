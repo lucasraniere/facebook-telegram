{
 "cells": [
  {
   "cell_type": "code",
   "execution_count": 1,
   "id": "6613f1ae-0e8e-4adb-8881-29b72daa1bc2",
   "metadata": {},
   "outputs": [],
   "source": [
    "import facepy"
   ]
  },
  {
   "cell_type": "code",
   "execution_count": null,
   "id": "ca2e8dd9-226d-44e9-8d84-57739d536df8",
   "metadata": {},
   "outputs": [],
   "source": []
  }
 ],
 "metadata": {
  "kernelspec": {
   "display_name": "Python 3 (ipykernel)",
   "language": "python",
   "name": "python3"
  },
  "language_info": {
   "codemirror_mode": {
    "name": "ipython",
    "version": 3
   },
   "file_extension": ".py",
   "mimetype": "text/x-python",
   "name": "python",
   "nbconvert_exporter": "python",
   "pygments_lexer": "ipython3",
   "version": "3.10.6"
  }
 },
 "nbformat": 4,
 "nbformat_minor": 5
}
